{
 "cells": [
  {
   "cell_type": "markdown",
   "metadata": {},
   "source": [
    "# Project"
   ]
  },
  {
   "cell_type": "code",
   "execution_count": 1,
   "metadata": {
    "collapsed": true
   },
   "outputs": [],
   "source": [
    "# Name: Alexis Lizardo\n",
    "# Student ID: 301318503"
   ]
  },
  {
   "cell_type": "markdown",
   "metadata": {},
   "source": [
    "## Imports"
   ]
  },
  {
   "cell_type": "code",
   "execution_count": 68,
   "metadata": {
    "collapsed": true
   },
   "outputs": [],
   "source": [
    "import numpy as np\n",
    "import pandas as pd\n",
    "import matplotlib.pyplot as plt\n",
    "import seaborn\n",
    "import sys\n",
    "import os\n",
    "import glob\n",
    "import re\n",
    "from scipy import misc\n",
    "from sklearn.pipeline import make_pipeline\n",
    "from sklearn.model_selection import train_test_split\n",
    "from sklearn.decomposition import PCA\n",
    "from sklearn.ensemble import RandomForestClassifier, BaggingClassifier, AdaBoostClassifier\n",
    "from sklearn.model_selection import GridSearchCV\n",
    "from sklearn.preprocessing import MultiLabelBinarizer, LabelEncoder\n",
    "from sklearn.neighbors import KNeighborsClassifier"
   ]
  },
  {
   "cell_type": "markdown",
   "metadata": {},
   "source": [
    "## Functions"
   ]
  },
  {
   "cell_type": "code",
   "execution_count": 3,
   "metadata": {
    "collapsed": true
   },
   "outputs": [],
   "source": [
    "# Adapted from: https://stackoverflow.com/a/26912445\n",
    "\n",
    "def remove_headers(file_list):\n",
    "    pattern = r'^\"Date/Time\"'\n",
    "    pattern = re.compile(pattern)\n",
    "    path = file_list[0].rpartition('/')[0] + \"/\"\n",
    "    for file in file_list:\n",
    "        new_file = \"weather-data/\"+ file.split('/')[1]\n",
    "        with open(file,\"r\") as input:\n",
    "            with open(new_file,\"w\") as output: \n",
    "                for line in input:\n",
    "                    if pattern.match(line):\n",
    "                        output.write(line)\n",
    "                        break\n",
    "                for line in input:\n",
    "                    output.write(line)\n",
    "        #os.rename(new_file, path + new_file)"
   ]
  },
  {
   "cell_type": "code",
   "execution_count": 4,
   "metadata": {
    "collapsed": true
   },
   "outputs": [],
   "source": [
    "def path_to_datetime(path):\n",
    "    fname = path.split('/')[1]\n",
    "    fname_no_ext = fname.split('.')[0]\n",
    "    date = fname_no_ext.split('-')[1]\n",
    "    dt = pd.to_datetime(date, unit='ns')\n",
    "    return dt"
   ]
  },
  {
   "cell_type": "markdown",
   "metadata": {},
   "source": [
    "## Specify in report that having color information did not provide better accuracy"
   ]
  },
  {
   "cell_type": "code",
   "execution_count": 5,
   "metadata": {
    "collapsed": true
   },
   "outputs": [],
   "source": [
    "def img_data(filenames, dates):\n",
    "    N = dates.size\n",
    "    image_data = np.empty((N, 192*256), dtype=np.uint8)\n",
    "    i = int(0)\n",
    "    for f in filenames:\n",
    "        if (i >= N):\n",
    "            break\n",
    "        if (path_to_datetime(f) == dates.values[i]):\n",
    "            img = misc.imread(f, flatten=True)\n",
    "            image_data[i, ...] = img.flatten()\n",
    "            i = i + 1\n",
    "    return image_data"
   ]
  },
  {
   "cell_type": "code",
   "execution_count": 6,
   "metadata": {
    "collapsed": true
   },
   "outputs": [],
   "source": [
    "def img_datetime(filenames):\n",
    "    N = len(filenames)\n",
    "    images_date = np.empty(N, dtype=np.dtype('M8[ns]'))\n",
    "    for i, f in enumerate(filenames):\n",
    "        images_date[i] = path_to_datetime(f)\n",
    "    return images_date"
   ]
  },
  {
   "cell_type": "markdown",
   "metadata": {},
   "source": [
    "## Get Data"
   ]
  },
  {
   "cell_type": "markdown",
   "metadata": {},
   "source": [
    "### Get file names"
   ]
  },
  {
   "cell_type": "code",
   "execution_count": 7,
   "metadata": {
    "collapsed": true
   },
   "outputs": [],
   "source": [
    "images_path = 'katkam-scaled/'\n",
    "orig_weather_path = 'yvr-weather/'\n",
    "mod_weather_path = 'weather-data/'\n",
    "orig_files = glob.glob(os.path.join(orig_weather_path, \"*.csv\"))\n",
    "image_files = glob.glob(os.path.join(images_path, \"*.jpg\"))"
   ]
  },
  {
   "cell_type": "markdown",
   "metadata": {},
   "source": [
    "### Clean weather data files"
   ]
  },
  {
   "cell_type": "code",
   "execution_count": 8,
   "metadata": {
    "collapsed": true
   },
   "outputs": [],
   "source": [
    "remove_headers(orig_files)\n",
    "mod_files = glob.glob(os.path.join(mod_weather_path, \"*.csv\"))"
   ]
  },
  {
   "cell_type": "markdown",
   "metadata": {},
   "source": [
    "### Load weather data into dataframe"
   ]
  },
  {
   "cell_type": "code",
   "execution_count": 9,
   "metadata": {
    "collapsed": true
   },
   "outputs": [],
   "source": [
    "# Adapted from: https://stackoverflow.com/a/36416258\n",
    "columns = ['Date/Time', 'Weather']\n",
    "df_from_each_file = (pd.read_csv(f, parse_dates=['Date/Time'], usecols=columns) for f in mod_files)\n",
    "weather_data = pd.concat(df_from_each_file, ignore_index=True)\n",
    "#weather_data = weather_data.dropna()"
   ]
  },
  {
   "cell_type": "markdown",
   "metadata": {},
   "source": [
    "### Get dates of image files"
   ]
  },
  {
   "cell_type": "code",
   "execution_count": 10,
   "metadata": {
    "collapsed": true
   },
   "outputs": [],
   "source": [
    "images_dates = img_datetime(image_files)\n",
    "dates_df = pd.DataFrame(images_dates, columns=['Date/Time'])"
   ]
  },
  {
   "cell_type": "markdown",
   "metadata": {},
   "source": [
    "### Merge weather_data with dates_df to keep images which have weather information"
   ]
  },
  {
   "cell_type": "code",
   "execution_count": 11,
   "metadata": {
    "collapsed": true
   },
   "outputs": [],
   "source": [
    "data = pd.merge(weather_data, dates_df, on = 'Date/Time')"
   ]
  },
  {
   "cell_type": "markdown",
   "metadata": {},
   "source": [
    "### Get weather categories"
   ]
  },
  {
   "cell_type": "code",
   "execution_count": 12,
   "metadata": {
    "collapsed": true
   },
   "outputs": [],
   "source": [
    "categories = ['Cloudy', 'Rain', 'Clear', 'Drizzle', 'Fog', 'Snow']\n",
    "pattern = re.compile(r'\\b(?:(%s))\\b' % '|'.join(categories))\n",
    "data['weather_mlabel'] = data['Weather'].str.findall(pattern)\n",
    "data['weather_label'] = data['Weather'].str.extract(pattern, expand=False)"
   ]
  },
  {
   "cell_type": "markdown",
   "metadata": {},
   "source": [
    "## Classify according to weather categories"
   ]
  },
  {
   "cell_type": "markdown",
   "metadata": {},
   "source": [
    "### Load image data"
   ]
  },
  {
   "cell_type": "code",
   "execution_count": 13,
   "metadata": {
    "collapsed": true
   },
   "outputs": [],
   "source": [
    "data = data.dropna(subset = ['weather_label', 'weather_mlabel'])\n",
    "image_data = img_data(image_files, data['Date/Time'])"
   ]
  },
  {
   "cell_type": "markdown",
   "metadata": {},
   "source": [
    "### Single label classification"
   ]
  },
  {
   "cell_type": "markdown",
   "metadata": {},
   "source": [
    "#### Split data"
   ]
  },
  {
   "cell_type": "code",
   "execution_count": 57,
   "metadata": {
    "collapsed": true
   },
   "outputs": [],
   "source": [
    "X = image_data\n",
    "y = data['weather_label']"
   ]
  },
  {
   "cell_type": "code",
   "execution_count": 58,
   "metadata": {
    "collapsed": true
   },
   "outputs": [],
   "source": [
    "lbl_enc = LabelEncoder()\n",
    "y_labels = lbl_enc.fit_transform(y)"
   ]
  },
  {
   "cell_type": "code",
   "execution_count": 59,
   "metadata": {
    "collapsed": true
   },
   "outputs": [],
   "source": [
    "X_train, X_test, y_train, y_test = train_test_split(X, y_labels, random_state = 21)"
   ]
  },
  {
   "cell_type": "markdown",
   "metadata": {},
   "source": [
    "#### Fit model"
   ]
  },
  {
   "cell_type": "markdown",
   "metadata": {},
   "source": [
    "#### \"Good\" accuracy, around 0.7135"
   ]
  },
  {
   "cell_type": "code",
   "execution_count": 71,
   "metadata": {},
   "outputs": [
    {
     "name": "stdout",
     "output_type": "stream",
     "text": [
      "0.52846975089\n"
     ]
    }
   ],
   "source": [
    "model = make_pipeline(\n",
    "    PCA(250),\n",
    "    RandomForestClassifier(n_estimators=500, n_jobs=-1)\n",
    ")\n",
    "model.fit(X_train, y_train)\n",
    "print(model.score(X_test, y_test))"
   ]
  },
  {
   "cell_type": "markdown",
   "metadata": {},
   "source": [
    "#### \"Best\" accuracy soo far, 0.779, 500 estimator"
   ]
  },
  {
   "cell_type": "code",
   "execution_count": 67,
   "metadata": {},
   "outputs": [
    {
     "name": "stdout",
     "output_type": "stream",
     "text": [
      "0.725978647687\n"
     ]
    }
   ],
   "source": [
    "model = make_pipeline(\n",
    "    PCA(250),\n",
    "    BaggingClassifier(n_estimators=500, n_jobs=-1)\n",
    ")\n",
    "model.fit(X_train, y_train)\n",
    "print(model.score(X_test, y_test))"
   ]
  },
  {
   "cell_type": "markdown",
   "metadata": {},
   "source": [
    "### Multilabel classification"
   ]
  },
  {
   "cell_type": "markdown",
   "metadata": {},
   "source": [
    "#### Split data"
   ]
  },
  {
   "cell_type": "code",
   "execution_count": 41,
   "metadata": {},
   "outputs": [],
   "source": [
    "X = image_data\n",
    "y = data['weather_mlabel']\n",
    "y = MultiLabelBinarizer(classes=categories).fit_transform(y)"
   ]
  },
  {
   "cell_type": "code",
   "execution_count": 42,
   "metadata": {},
   "outputs": [],
   "source": [
    "X_train, X_test, y_train, y_test = train_test_split(X, y_labels, random_state = 21)"
   ]
  },
  {
   "cell_type": "markdown",
   "metadata": {},
   "source": [
    "#### Fit model"
   ]
  },
  {
   "cell_type": "code",
   "execution_count": 56,
   "metadata": {},
   "outputs": [
    {
     "name": "stdout",
     "output_type": "stream",
     "text": [
      "0.670818505338\n"
     ]
    }
   ],
   "source": [
    "model = make_pipeline(\n",
    "    PCA(250),\n",
    "    #RandomForestClassifier(n_estimators=500, n_jobs=-1)\n",
    "    KNeighborsClassifier(n_neighbors=5, weights='distance', n_jobs=-1)\n",
    ")\n",
    "model.fit(X_train, y_train)\n",
    "print(model.score(X_test, y_test))"
   ]
  },
  {
   "cell_type": "markdown",
   "metadata": {},
   "source": [
    "## Load data for other types of classification"
   ]
  },
  {
   "cell_type": "markdown",
   "metadata": {},
   "source": [
    "### Load Temp and Visibility data into dataframe"
   ]
  },
  {
   "cell_type": "code",
   "execution_count": 25,
   "metadata": {
    "collapsed": true
   },
   "outputs": [],
   "source": [
    "# Adapted from: https://stackoverflow.com/a/36416258\n",
    "columns = ['Date/Time', 'Temp (°C)', 'Visibility (km)']\n",
    "df_from_each_file = (pd.read_csv(f, parse_dates=['Date/Time'], usecols=columns) for f in mod_files)\n",
    "weather_data = pd.concat(df_from_each_file, ignore_index=True)\n",
    "weather_data = weather_data.dropna()"
   ]
  },
  {
   "cell_type": "markdown",
   "metadata": {},
   "source": [
    "### Get dates of image files"
   ]
  },
  {
   "cell_type": "code",
   "execution_count": 26,
   "metadata": {
    "collapsed": true
   },
   "outputs": [],
   "source": [
    "images_dates = img_datetime(image_files)\n",
    "dates_df = pd.DataFrame(images_dates, columns=['Date/Time'])"
   ]
  },
  {
   "cell_type": "markdown",
   "metadata": {},
   "source": [
    "### Merge weather_data with dates_df to keep images which have weather information"
   ]
  },
  {
   "cell_type": "code",
   "execution_count": 27,
   "metadata": {
    "collapsed": true
   },
   "outputs": [],
   "source": [
    "data = pd.merge(weather_data, dates_df, on = 'Date/Time')"
   ]
  },
  {
   "cell_type": "markdown",
   "metadata": {},
   "source": [
    "### Load image data"
   ]
  },
  {
   "cell_type": "code",
   "execution_count": 32,
   "metadata": {
    "collapsed": true
   },
   "outputs": [],
   "source": [
    "image_data = img_data(image_files, data['Date/Time'])"
   ]
  },
  {
   "cell_type": "markdown",
   "metadata": {
    "collapsed": true
   },
   "source": [
    "## Classify by time of day"
   ]
  },
  {
   "cell_type": "markdown",
   "metadata": {},
   "source": [
    "### Specify categories"
   ]
  },
  {
   "cell_type": "code",
   "execution_count": 34,
   "metadata": {
    "collapsed": true
   },
   "outputs": [],
   "source": [
    "data['t_day'] = 'Afternoon'\n",
    "data.loc[data['Date/Time'].dt.hour < 12, 't_day'] = 'Morning'\n",
    "data.loc[data['Date/Time'].dt.hour >= 18, 't_day'] = 'Evening'"
   ]
  },
  {
   "cell_type": "markdown",
   "metadata": {},
   "source": [
    "### Split data"
   ]
  },
  {
   "cell_type": "code",
   "execution_count": 35,
   "metadata": {
    "collapsed": true
   },
   "outputs": [],
   "source": [
    "X = image_data\n",
    "y = data['t_day']"
   ]
  },
  {
   "cell_type": "code",
   "execution_count": 36,
   "metadata": {
    "collapsed": true
   },
   "outputs": [],
   "source": [
    "lbl_enc = LabelEncoder()\n",
    "y_labels = lbl_enc.fit_transform(y)"
   ]
  },
  {
   "cell_type": "code",
   "execution_count": 37,
   "metadata": {
    "collapsed": true
   },
   "outputs": [],
   "source": [
    "X_train, X_test, y_train, y_test = train_test_split(X, y_labels, random_state = 21)"
   ]
  },
  {
   "cell_type": "markdown",
   "metadata": {},
   "source": [
    "### Fit model"
   ]
  },
  {
   "cell_type": "code",
   "execution_count": 38,
   "metadata": {},
   "outputs": [
    {
     "name": "stdout",
     "output_type": "stream",
     "text": [
      "0.765500794913\n"
     ]
    }
   ],
   "source": [
    "model = make_pipeline(\n",
    "    PCA(250),\n",
    "    RandomForestClassifier(n_estimators=250, n_jobs=-1)\n",
    ")\n",
    "model.fit(X_train, y_train)\n",
    "print(model.score(X_test, y_test))"
   ]
  },
  {
   "cell_type": "markdown",
   "metadata": {},
   "source": [
    "## Classify by Temperature range"
   ]
  },
  {
   "cell_type": "markdown",
   "metadata": {},
   "source": [
    "### Specify categories"
   ]
  },
  {
   "cell_type": "code",
   "execution_count": 39,
   "metadata": {
    "collapsed": true
   },
   "outputs": [],
   "source": [
    "data['temp_label'] = 'Cool'\n",
    "data.loc[data['Temp (°C)'] < 10, 'temp_label'] = 'Cold'\n",
    "data.loc[data['Temp (°C)'] >= 20 , 'temp_label'] = 'Warm'"
   ]
  },
  {
   "cell_type": "markdown",
   "metadata": {},
   "source": [
    "### Split data"
   ]
  },
  {
   "cell_type": "code",
   "execution_count": 40,
   "metadata": {
    "collapsed": true
   },
   "outputs": [],
   "source": [
    "X = image_data\n",
    "y = data['temp_label']"
   ]
  },
  {
   "cell_type": "code",
   "execution_count": 41,
   "metadata": {
    "collapsed": true
   },
   "outputs": [],
   "source": [
    "lbl_enc = LabelEncoder()\n",
    "y_labels = lbl_enc.fit_transform(y)"
   ]
  },
  {
   "cell_type": "code",
   "execution_count": 42,
   "metadata": {
    "collapsed": true
   },
   "outputs": [],
   "source": [
    "X_train, X_test, y_train, y_test = train_test_split(X, y_labels, random_state = 21)"
   ]
  },
  {
   "cell_type": "markdown",
   "metadata": {},
   "source": [
    "### Fit model"
   ]
  },
  {
   "cell_type": "code",
   "execution_count": 43,
   "metadata": {},
   "outputs": [
    {
     "name": "stdout",
     "output_type": "stream",
     "text": [
      "0.800476947536\n"
     ]
    }
   ],
   "source": [
    "model = make_pipeline(\n",
    "    PCA(250),\n",
    "    RandomForestClassifier(n_estimators=150, n_jobs=-1)\n",
    ")\n",
    "model.fit(X_train, y_train)\n",
    "print(model.score(X_test, y_test))"
   ]
  },
  {
   "cell_type": "code",
   "execution_count": 44,
   "metadata": {},
   "outputs": [
    {
     "name": "stdout",
     "output_type": "stream",
     "text": [
      "0.825914149444\n"
     ]
    }
   ],
   "source": [
    "model = make_pipeline(\n",
    "    PCA(250),\n",
    "    BaggingClassifier(n_estimators=300, n_jobs=-1)\n",
    ")\n",
    "model.fit(X_train, y_train)\n",
    "print(model.score(X_test, y_test))"
   ]
  },
  {
   "cell_type": "markdown",
   "metadata": {},
   "source": [
    "## Classify by Visibility"
   ]
  },
  {
   "cell_type": "markdown",
   "metadata": {},
   "source": [
    "### Specify categories"
   ]
  },
  {
   "cell_type": "code",
   "execution_count": 45,
   "metadata": {
    "collapsed": true
   },
   "outputs": [],
   "source": [
    "data['visibility_label'] = 'Poor'\n",
    "data.loc[(data['Visibility (km)'] > 5) & (data['Visibility (km)'] <= 10), 'visibility_label'] = 'Moderate'\n",
    "data.loc[(data['Visibility (km)'] > 10) & (data['Visibility (km)'] <= 20), 'visibility_label'] = 'Good'\n",
    "data.loc[(data['Visibility (km)'] > 20) & (data['Visibility (km)'] <= 30), 'visibility_label'] = 'Very Good'\n",
    "data.loc[data['Visibility (km)'] > 30, 'visibility_label'] = 'Excellent'"
   ]
  },
  {
   "cell_type": "markdown",
   "metadata": {},
   "source": [
    "### Split data"
   ]
  },
  {
   "cell_type": "code",
   "execution_count": 46,
   "metadata": {
    "collapsed": true
   },
   "outputs": [],
   "source": [
    "X = image_data\n",
    "y = data['visibility_label']"
   ]
  },
  {
   "cell_type": "code",
   "execution_count": 47,
   "metadata": {
    "collapsed": true
   },
   "outputs": [],
   "source": [
    "lbl_enc = LabelEncoder()\n",
    "y_labels = lbl_enc.fit_transform(y)"
   ]
  },
  {
   "cell_type": "code",
   "execution_count": 48,
   "metadata": {
    "collapsed": true
   },
   "outputs": [],
   "source": [
    "X_train, X_test, y_train, y_test = train_test_split(X, y_labels, random_state = 21)"
   ]
  },
  {
   "cell_type": "markdown",
   "metadata": {},
   "source": [
    "### Fit model"
   ]
  },
  {
   "cell_type": "code",
   "execution_count": 49,
   "metadata": {},
   "outputs": [
    {
     "name": "stdout",
     "output_type": "stream",
     "text": [
      "0.77106518283\n"
     ]
    }
   ],
   "source": [
    "model = make_pipeline(\n",
    "    PCA(250),\n",
    "    BaggingClassifier(n_estimators=150, n_jobs=-1)\n",
    ")\n",
    "model.fit(X_train, y_train)\n",
    "print(model.score(X_test, y_test))"
   ]
  },
  {
   "cell_type": "code",
   "execution_count": null,
   "metadata": {
    "collapsed": true
   },
   "outputs": [],
   "source": []
  }
 ],
 "metadata": {
  "kernelspec": {
   "display_name": "Python 3",
   "language": "python",
   "name": "python3"
  },
  "language_info": {
   "codemirror_mode": {
    "name": "ipython",
    "version": 3
   },
   "file_extension": ".py",
   "mimetype": "text/x-python",
   "name": "python",
   "nbconvert_exporter": "python",
   "pygments_lexer": "ipython3",
   "version": "3.6.2"
  }
 },
 "nbformat": 4,
 "nbformat_minor": 2
}
